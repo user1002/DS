{
 "cells": [
  {
   "cell_type": "code",
   "execution_count": 21,
   "metadata": {},
   "outputs": [],
   "source": [
    "import numpy as np  \n",
    "import matplotlib.pyplot as plt  \n",
    "import pandas as pd \n",
    "from sklearn.model_selection import train_test_split "
   ]
  },
  {
   "cell_type": "code",
   "execution_count": null,
   "metadata": {},
   "outputs": [],
   "source": []
  },
  {
   "cell_type": "code",
   "execution_count": 22,
   "metadata": {},
   "outputs": [
    {
     "name": "stdout",
     "output_type": "stream",
     "text": [
      "     SepalLength  Sepalwidth  PetalLength  PetalWidth        IrisType\n",
      "0            5.1         3.5          1.4         0.2     Iris-setosa\n",
      "1            4.9         3.0          1.4         0.2     Iris-setosa\n",
      "2            4.7         3.2          1.3         0.2     Iris-setosa\n",
      "3            4.6         3.1          1.5         0.2     Iris-setosa\n",
      "4            5.0         3.6          1.4         0.2     Iris-setosa\n",
      "5            5.4         3.9          1.7         0.4     Iris-setosa\n",
      "6            4.6         3.4          1.4         0.3     Iris-setosa\n",
      "7            5.0         3.4          1.5         0.2     Iris-setosa\n",
      "8            4.4         2.9          1.4         0.2     Iris-setosa\n",
      "9            4.9         3.1          1.5         0.1     Iris-setosa\n",
      "10           5.4         3.7          1.5         0.2     Iris-setosa\n",
      "11           4.8         3.4          1.6         0.2     Iris-setosa\n",
      "12           4.8         3.0          1.4         0.1     Iris-setosa\n",
      "13           4.3         3.0          1.1         0.1     Iris-setosa\n",
      "14           5.8         4.0          1.2         0.2     Iris-setosa\n",
      "15           5.7         4.4          1.5         0.4     Iris-setosa\n",
      "16           5.4         3.9          1.3         0.4     Iris-setosa\n",
      "17           5.1         3.5          1.4         0.3     Iris-setosa\n",
      "18           5.7         3.8          1.7         0.3     Iris-setosa\n",
      "19           5.1         3.8          1.5         0.3     Iris-setosa\n",
      "20           5.4         3.4          1.7         0.2     Iris-setosa\n",
      "21           5.1         3.7          1.5         0.4     Iris-setosa\n",
      "22           4.6         3.6          1.0         0.2     Iris-setosa\n",
      "23           5.1         3.3          1.7         0.5     Iris-setosa\n",
      "24           4.8         3.4          1.9         0.2     Iris-setosa\n",
      "25           5.0         3.0          1.6         0.2     Iris-setosa\n",
      "26           5.0         3.4          1.6         0.4     Iris-setosa\n",
      "27           5.2         3.5          1.5         0.2     Iris-setosa\n",
      "28           5.2         3.4          1.4         0.2     Iris-setosa\n",
      "29           4.7         3.2          1.6         0.2     Iris-setosa\n",
      "..           ...         ...          ...         ...             ...\n",
      "120          6.9         3.2          5.7         2.3  Iris-virginica\n",
      "121          5.6         2.8          4.9         2.0  Iris-virginica\n",
      "122          7.7         2.8          6.7         2.0  Iris-virginica\n",
      "123          6.3         2.7          4.9         1.8  Iris-virginica\n",
      "124          6.7         3.3          5.7         2.1  Iris-virginica\n",
      "125          7.2         3.2          6.0         1.8  Iris-virginica\n",
      "126          6.2         2.8          4.8         1.8  Iris-virginica\n",
      "127          6.1         3.0          4.9         1.8  Iris-virginica\n",
      "128          6.4         2.8          5.6         2.1  Iris-virginica\n",
      "129          7.2         3.0          5.8         1.6  Iris-virginica\n",
      "130          7.4         2.8          6.1         1.9  Iris-virginica\n",
      "131          7.9         3.8          6.4         2.0  Iris-virginica\n",
      "132          6.4         2.8          5.6         2.2  Iris-virginica\n",
      "133          6.3         2.8          5.1         1.5  Iris-virginica\n",
      "134          6.1         2.6          5.6         1.4  Iris-virginica\n",
      "135          7.7         3.0          6.1         2.3  Iris-virginica\n",
      "136          6.3         3.4          5.6         2.4  Iris-virginica\n",
      "137          6.4         3.1          5.5         1.8  Iris-virginica\n",
      "138          6.0         3.0          4.8         1.8  Iris-virginica\n",
      "139          6.9         3.1          5.4         2.1  Iris-virginica\n",
      "140          6.7         3.1          5.6         2.4  Iris-virginica\n",
      "141          6.9         3.1          5.1         2.3  Iris-virginica\n",
      "142          5.8         2.7          5.1         1.9  Iris-virginica\n",
      "143          6.8         3.2          5.9         2.3  Iris-virginica\n",
      "144          6.7         3.3          5.7         2.5  Iris-virginica\n",
      "145          6.7         3.0          5.2         2.3  Iris-virginica\n",
      "146          6.3         2.5          5.0         1.9  Iris-virginica\n",
      "147          6.5         3.0          5.2         2.0  Iris-virginica\n",
      "148          6.2         3.4          5.4         2.3  Iris-virginica\n",
      "149          5.9         3.0          5.1         1.8  Iris-virginica\n",
      "\n",
      "[150 rows x 5 columns]\n"
     ]
    }
   ],
   "source": [
    "#Read a file\n",
    "df = pd.read_excel(r'C:\\Users\\jthekkel\\Desktop\\DataSet\\Iris.xlsx',sheet_name='Iris')\n",
    "print(df)"
   ]
  },
  {
   "cell_type": "code",
   "execution_count": 23,
   "metadata": {},
   "outputs": [],
   "source": [
    "X = df.iloc[:, :-1].values  \n",
    "y = df.iloc[:, 4].values  \n",
    "#The X variable contains the first four columns of the dataset (i.e. attributes) while y contains the labels."
   ]
  },
  {
   "cell_type": "code",
   "execution_count": 24,
   "metadata": {},
   "outputs": [],
   "source": [
    "X_train, X_test, y_train, y_test = train_test_split(X, y, test_size=0.20)"
   ]
  },
  {
   "cell_type": "code",
   "execution_count": 25,
   "metadata": {},
   "outputs": [],
   "source": [
    "#If some features have larger distance, they will have a bigger say in distance based algorithms. \n",
    "#This can be avoided by normalizing by something called Feature Scaling.\n",
    "\n",
    "from sklearn.preprocessing import StandardScaler  \n",
    "scaler = StandardScaler()  \n",
    "scaler.fit(X_train)\n",
    "\n",
    "X_train = scaler.transform(X_train)  \n",
    "X_test = scaler.transform(X_test)  "
   ]
  },
  {
   "cell_type": "code",
   "execution_count": 26,
   "metadata": {},
   "outputs": [
    {
     "data": {
      "text/plain": [
       "KNeighborsClassifier(algorithm='auto', leaf_size=30, metric='minkowski',\n",
       "           metric_params=None, n_jobs=1, n_neighbors=5, p=2,\n",
       "           weights='uniform')"
      ]
     },
     "execution_count": 26,
     "metadata": {},
     "output_type": "execute_result"
    }
   ],
   "source": [
    "from sklearn.neighbors import KNeighborsClassifier  \n",
    "classifier = KNeighborsClassifier(n_neighbors=5)  \n",
    "classifier.fit(X_train, y_train)"
   ]
  },
  {
   "cell_type": "code",
   "execution_count": 27,
   "metadata": {},
   "outputs": [
    {
     "name": "stdout",
     "output_type": "stream",
     "text": [
      "['Iris-versicolor' 'Iris-versicolor' 'Iris-virginica' 'Iris-setosa'\n",
      " 'Iris-versicolor' 'Iris-virginica' 'Iris-versicolor' 'Iris-versicolor'\n",
      " 'Iris-virginica' 'Iris-versicolor' 'Iris-setosa' 'Iris-versicolor'\n",
      " 'Iris-virginica' 'Iris-versicolor' 'Iris-versicolor' 'Iris-virginica'\n",
      " 'Iris-setosa' 'Iris-setosa' 'Iris-virginica' 'Iris-virginica'\n",
      " 'Iris-setosa' 'Iris-versicolor' 'Iris-versicolor' 'Iris-virginica'\n",
      " 'Iris-virginica' 'Iris-virginica' 'Iris-virginica' 'Iris-setosa'\n",
      " 'Iris-setosa' 'Iris-virginica']\n"
     ]
    }
   ],
   "source": [
    "y_pred = classifier.predict(X_test)\n",
    "#print(y_pred)"
   ]
  },
  {
   "cell_type": "code",
   "execution_count": 28,
   "metadata": {},
   "outputs": [],
   "source": [
    "#classifier.score(X,y)"
   ]
  },
  {
   "cell_type": "code",
   "execution_count": 29,
   "metadata": {},
   "outputs": [
    {
     "name": "stdout",
     "output_type": "stream",
     "text": [
      "[[ 7  0  0]\n",
      " [ 0 10  1]\n",
      " [ 0  1 11]]\n",
      "                 precision    recall  f1-score   support\n",
      "\n",
      "    Iris-setosa       1.00      1.00      1.00         7\n",
      "Iris-versicolor       0.91      0.91      0.91        11\n",
      " Iris-virginica       0.92      0.92      0.92        12\n",
      "\n",
      "    avg / total       0.93      0.93      0.93        30\n",
      "\n"
     ]
    }
   ],
   "source": [
    "#Evaluate the Algorithm\n",
    "from sklearn.metrics import classification_report, confusion_matrix  \n",
    "print(confusion_matrix(y_test, y_pred))  \n",
    "print(classification_report(y_test, y_pred)) "
   ]
  },
  {
   "cell_type": "code",
   "execution_count": 31,
   "metadata": {},
   "outputs": [],
   "source": [
    "#Which K value should we chose? Plot the error rate for everything where K between 1-40\n",
    "\n",
    "error = []\n",
    "\n",
    "for i in range(1, 40):  \n",
    "    knn = KNeighborsClassifier(n_neighbors=i)\n",
    "    knn.fit(X_train, y_train)\n",
    "    pred_i = knn.predict(X_test)\n",
    "    error.append(np.mean(pred_i != y_test))"
   ]
  },
  {
   "cell_type": "code",
   "execution_count": 32,
   "metadata": {},
   "outputs": [
    {
     "data": {
      "text/plain": [
       "Text(0,0.5,'Mean Error')"
      ]
     },
     "execution_count": 32,
     "metadata": {},
     "output_type": "execute_result"
    },
    {
     "data": {
      "image/png": "[encoded data removed]",
      "text/plain": [
       "<Figure size 864x432 with 1 Axes>"
      ]
     },
     "metadata": {
      "needs_background": "light"
     },
     "output_type": "display_data"
    }
   ],
   "source": [
    "plt.figure(figsize=(12, 6))  \n",
    "plt.plot(range(1, 40), error, color='red', linestyle='dashed', marker='o',  \n",
    "         markerfacecolor='blue', markersize=10)\n",
    "plt.title('Error Rate K Value')  \n",
    "plt.xlabel('K Value')  \n",
    "plt.ylabel('Mean Error')  "
   ]
  },
  {
   "cell_type": "code",
   "execution_count": null,
   "metadata": {},
   "outputs": [],
   "source": []
  }
 ],
 "metadata": {
  "kernelspec": {
   "display_name": "Python 3",
   "language": "python",
   "name": "python3"
  },
  "language_info": {
   "codemirror_mode": {
    "name": "ipython",
    "version": 3
   },
   "file_extension": ".py",
   "mimetype": "text/x-python",
   "name": "python",
   "nbconvert_exporter": "python",
   "pygments_lexer": "ipython3",
   "version": "3.7.0"
  }
 },
 "nbformat": 4,
 "nbformat_minor": 2
}
