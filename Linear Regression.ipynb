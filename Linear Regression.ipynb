{
 "cells": [
  {
   "cell_type": "code",
   "execution_count": 1,
   "metadata": {},
   "outputs": [],
   "source": [
    "import pandas as pd\n",
    "import numpy as np\n",
    "import statsmodels.api as sm\n",
    "from sklearn import linear_model"
   ]
  },
  {
   "cell_type": "code",
   "execution_count": 2,
   "metadata": {},
   "outputs": [
    {
     "name": "stdout",
     "output_type": "stream",
     "text": [
      "           Date      Time  CO(GT)  PT08.S1(CO)  NMHC(GT)   C6H6(GT)  \\\n",
      "0    2004-03-10  18:00:00     2.6  1360.000000       150  11.881723   \n",
      "1    2004-03-10  19:00:00     2.0  1292.250000       112   9.397165   \n",
      "2    2004-03-10  20:00:00     2.2  1402.000000        88   8.997817   \n",
      "3    2004-03-10  21:00:00     2.2  1375.500000        80   9.228796   \n",
      "4    2004-03-10  22:00:00     1.6  1272.250000        51   6.518224   \n",
      "5    2004-03-10  23:00:00     1.2  1197.000000        38   4.741012   \n",
      "6    2004-03-11  00:00:00     1.2  1185.000000        31   3.624399   \n",
      "7    2004-03-11  01:00:00     1.0  1136.250000        31   3.326677   \n",
      "8    2004-03-11  02:00:00     0.9  1094.000000        24   2.339416   \n",
      "9    2004-03-11  03:00:00     0.6  1009.750000        19   1.696658   \n",
      "10   2004-03-11  04:00:00  -200.0  1011.000000        14   1.293620   \n",
      "11   2004-03-11  05:00:00     0.7  1066.000000         8   1.133431   \n",
      "12   2004-03-11  06:00:00     0.7  1051.750000        16   1.603768   \n",
      "13   2004-03-11  07:00:00     1.1  1144.000000        29   3.243618   \n",
      "14   2004-03-11  08:00:00     2.0  1333.250000        64   8.013773   \n",
      "15   2004-03-11  09:00:00     2.2  1351.000000        87   9.540643   \n",
      "16   2004-03-11  10:00:00     1.7  1233.250000        77   6.335782   \n",
      "17   2004-03-11  11:00:00     1.5  1178.750000        43   4.971584   \n",
      "18   2004-03-11  12:00:00     1.6  1236.000000        61   5.216919   \n",
      "19   2004-03-11  13:00:00     1.9  1285.500000        63   7.269933   \n",
      "20   2004-03-11  14:00:00     2.9  1371.000000       164  11.539007   \n",
      "21   2004-03-11  15:00:00     2.2  1310.000000        79   8.826223   \n",
      "22   2004-03-11  16:00:00     2.2  1291.750000        95   8.301413   \n",
      "23   2004-03-11  17:00:00     2.9  1383.000000       150  11.151581   \n",
      "24   2004-03-11  18:00:00     4.8  1580.750000       307  20.799217   \n",
      "25   2004-03-11  19:00:00     6.9  1775.500000       461  27.359807   \n",
      "26   2004-03-11  20:00:00     6.1  1640.000000       401  24.017757   \n",
      "27   2004-03-11  21:00:00     3.9  1312.750000       197  12.779368   \n",
      "28   2004-03-11  22:00:00     1.5   964.500000        61   4.707072   \n",
      "29   2004-03-11  23:00:00     1.0   912.750000        26   2.645722   \n",
      "...         ...       ...     ...          ...       ...        ...   \n",
      "9327 2005-04-03  09:00:00     1.2  1022.250000      -200   4.082095   \n",
      "9328 2005-04-03  10:00:00     1.4   970.250000      -200   3.402194   \n",
      "9329 2005-04-03  11:00:00     1.3   999.750000      -200   5.313402   \n",
      "9330 2005-04-03  12:00:00     1.4   996.000000      -200   5.349138   \n",
      "9331 2005-04-03  13:00:00     1.0   928.000000      -200   3.817080   \n",
      "9332 2005-04-03  14:00:00     1.0   932.750000      -200   4.201281   \n",
      "9333 2005-04-03  15:00:00     1.1   956.000000      -200   5.395234   \n",
      "9334 2005-04-03  16:00:00     1.3   967.500000      -200   6.313819   \n",
      "9335 2005-04-03  17:00:00     1.4   952.500000      -200   6.101377   \n",
      "9336 2005-04-03  18:00:00     1.2  1014.666667      -200   4.594689   \n",
      "9337 2005-04-03  19:00:00     2.7  1248.000000      -200  11.109658   \n",
      "9338 2005-04-03  20:00:00     2.5  1180.250000      -200   7.868564   \n",
      "9339 2005-04-03  21:00:00     1.5  1101.750000      -200   5.999005   \n",
      "9340 2005-04-03  22:00:00     1.6  1115.500000      -200   5.817660   \n",
      "9341 2005-04-03  23:00:00     1.2  1099.750000      -200   5.106145   \n",
      "9342 2005-04-04  00:00:00     0.9  1012.000000      -200   3.504006   \n",
      "9343 2005-04-04  01:00:00     0.6   944.250000      -200   1.931932   \n",
      "9344 2005-04-04  02:00:00     0.5   911.750000      -200   1.489323   \n",
      "9345 2005-04-04  03:00:00     0.4   887.000000      -200   1.086365   \n",
      "9346 2005-04-04  04:00:00  -200.0   864.250000      -200   0.801504   \n",
      "9347 2005-04-04  05:00:00     0.5   888.250000      -200   1.307608   \n",
      "9348 2005-04-04  06:00:00     1.1  1030.500000      -200   4.359341   \n",
      "9349 2005-04-04  07:00:00     4.0  1383.500000      -200  17.364240   \n",
      "9350 2005-04-04  08:00:00     5.0  1446.000000      -200  22.393233   \n",
      "9351 2005-04-04  09:00:00     3.9  1296.500000      -200  13.552393   \n",
      "9352 2005-04-04  10:00:00     3.1  1314.250000      -200  13.529605   \n",
      "9353 2005-04-04  11:00:00     2.4  1162.500000      -200  11.355157   \n",
      "9354 2005-04-04  12:00:00     2.4  1142.000000      -200  12.374538   \n",
      "9355 2005-04-04  13:00:00     2.1  1002.500000      -200   9.547187   \n",
      "9356 2005-04-04  14:00:00     2.2  1070.750000      -200  11.932060   \n",
      "\n",
      "      PT08.S2(NMHC)  NOx(GT)  PT08.S3(NOx)  NO2(GT)  PT08.S4(NO2)  \\\n",
      "0       1045.500000    166.0   1056.250000    113.0   1692.000000   \n",
      "1        954.750000    103.0   1173.750000     92.0   1558.750000   \n",
      "2        939.250000    131.0   1140.000000    114.0   1554.500000   \n",
      "3        948.250000    172.0   1092.000000    122.0   1583.750000   \n",
      "4        835.500000    131.0   1205.000000    116.0   1490.000000   \n",
      "5        750.250000     89.0   1336.500000     96.0   1393.000000   \n",
      "6        689.500000     62.0   1461.750000     77.0   1332.750000   \n",
      "7        672.000000     62.0   1453.250000     76.0   1332.750000   \n",
      "8        608.500000     45.0   1579.000000     60.0   1276.000000   \n",
      "9        560.750000   -200.0   1705.000000   -200.0   1234.750000   \n",
      "10       526.750000     21.0   1817.500000     34.0   1196.750000   \n",
      "11       512.000000     16.0   1918.000000     28.0   1182.000000   \n",
      "12       553.250000     34.0   1738.250000     48.0   1221.250000   \n",
      "13       667.000000     98.0   1489.750000     82.0   1339.000000   \n",
      "14       899.750000    174.0   1136.000000    112.0   1517.000000   \n",
      "15       960.250000    129.0   1079.000000    101.0   1582.750000   \n",
      "16       827.250000    112.0   1218.000000     98.0   1445.750000   \n",
      "17       762.000000     95.0   1327.500000     92.0   1361.750000   \n",
      "18       774.250000    104.0   1301.250000     95.0   1401.250000   \n",
      "19       868.500000    146.0   1162.250000    112.0   1536.750000   \n",
      "20      1033.500000    207.0    983.250000    128.0   1730.250000   \n",
      "21       932.500000    184.0   1081.750000    126.0   1646.500000   \n",
      "22       911.500000    193.0   1102.500000    131.0   1590.750000   \n",
      "23      1019.750000    243.0   1008.000000    135.0   1718.750000   \n",
      "24      1318.500000    281.0    798.500000    151.0   2083.000000   \n",
      "25      1487.750000    383.0    702.250000    172.0   2332.500000   \n",
      "26      1404.000000    351.0    742.750000    165.0   2191.250000   \n",
      "27      1076.250000    240.0    957.250000    136.0   1706.500000   \n",
      "28       748.500000     94.0   1325.250000     85.0   1332.500000   \n",
      "29       629.250000     47.0   1564.500000     53.0   1252.250000   \n",
      "...             ...      ...           ...      ...           ...   \n",
      "9327     715.250000    191.9    806.000000    118.0   1004.250000   \n",
      "9328     676.500000    166.4    887.500000    113.2    930.500000   \n",
      "9329     779.000000    171.3    804.500000    115.0   1000.750000   \n",
      "9330     780.750000    177.0    806.000000    123.9    985.250000   \n",
      "9331     700.500000    118.7    925.750000     86.4    902.000000   \n",
      "9332     721.750000    120.6    898.750000     87.0    889.500000   \n",
      "9333     783.000000    141.9    856.750000    100.4    895.750000   \n",
      "9334     826.250000    197.3    866.500000    132.0    898.250000   \n",
      "9335     816.500000    241.8    871.500000    156.3    891.000000   \n",
      "9336     742.666667    190.1    850.666667    137.9    980.666667   \n",
      "9337    1018.250000    367.4    598.750000    181.3   1289.250000   \n",
      "9338     893.750000    355.0    636.250000    186.8   1200.250000   \n",
      "9339     811.750000    235.2    692.750000    157.8   1178.000000   \n",
      "9340     803.250000    232.7    696.250000    153.2   1173.000000   \n",
      "9341     768.750000    170.1    721.750000    127.6   1146.750000   \n",
      "9342     682.500000    117.2    800.750000     93.0   1072.500000   \n",
      "9343     579.000000     69.6    924.750000     58.3   1001.750000   \n",
      "9344     543.750000     69.0    958.500000     54.6   1002.000000   \n",
      "9345     507.500000     61.7   1046.500000     51.3    973.500000   \n",
      "9346     478.250000     52.3   1116.000000     42.5    958.250000   \n",
      "9347     528.000000     76.5   1076.500000     53.1    987.000000   \n",
      "9348     730.250000    182.2    760.000000     93.0   1129.000000   \n",
      "9349    1220.750000    593.7    470.250000    154.6   1600.000000   \n",
      "9350    1361.500000    586.2    414.750000    173.6   1776.500000   \n",
      "9351    1102.000000    522.7    506.750000    186.5   1375.250000   \n",
      "9352    1101.250000    471.7    538.500000    189.8   1374.250000   \n",
      "9353    1027.000000    353.3    603.750000    179.2   1263.500000   \n",
      "9354    1062.500000    293.0    603.250000    174.7   1240.750000   \n",
      "9355     960.500000    234.5    701.500000    155.7   1041.000000   \n",
      "9356    1047.250000    265.2    654.000000    167.7   1128.500000   \n",
      "\n",
      "      PT08.S5(O3)          T         RH        AH  \n",
      "0     1267.500000  13.600000  48.875001  0.757754  \n",
      "1      972.250000  13.300000  47.700000  0.725487  \n",
      "2     1074.000000  11.900000  53.975000  0.750239  \n",
      "3     1203.250000  11.000000  60.000000  0.786713  \n",
      "4     1110.000000  11.150000  59.575001  0.788794  \n",
      "5      949.250000  11.175000  59.175000  0.784772  \n",
      "6      732.500000  11.325000  56.775000  0.760312  \n",
      "7      729.500000  10.675000  60.000000  0.770238  \n",
      "8      619.500000  10.650000  59.674999  0.764819  \n",
      "9      501.250000  10.250000  60.200001  0.751657  \n",
      "10     445.250000  10.075000  60.474999  0.746495  \n",
      "11     421.750000  11.000000  56.175000  0.736560  \n",
      "12     471.500000  10.450000  58.125000  0.735295  \n",
      "13     729.750000  10.200000  59.599999  0.741736  \n",
      "14    1101.500000  10.750000  57.425000  0.740795  \n",
      "15    1027.750000  10.500000  60.599998  0.769111  \n",
      "16     859.750000  10.800000  58.350000  0.755183  \n",
      "17     670.500000  10.500000  57.925000  0.735161  \n",
      "18     664.000000   9.525000  66.774999  0.795054  \n",
      "19     799.000000   8.300000  76.425001  0.839268  \n",
      "20    1036.500000   8.000000  81.150000  0.873589  \n",
      "21     946.250000   8.325000  79.799999  0.877784  \n",
      "22     956.750000   9.700000  71.150002  0.856938  \n",
      "23    1104.000000   9.775000  67.624998  0.818501  \n",
      "24    1408.500000  10.350000  64.174999  0.806544  \n",
      "25    1704.000000   9.650000  69.300001  0.831921  \n",
      "26    1653.750000   9.650000  67.750000  0.813314  \n",
      "27    1284.750000   9.125000  63.974999  0.741924  \n",
      "28     821.000000   8.175000  63.400000  0.690484  \n",
      "29     551.750000   8.250000  60.824999  0.665744  \n",
      "...           ...        ...        ...       ...  \n",
      "9327   830.750000  17.825000  30.675000  0.620458  \n",
      "9328   612.500000  21.125000  23.725000  0.587528  \n",
      "9329   639.500000  24.000000  19.275000  0.567283  \n",
      "9330   630.750000  26.450000  16.450000  0.559414  \n",
      "9331   455.500000  28.675000  13.700000  0.530155  \n",
      "9332   449.750000  28.475000  13.075000  0.500166  \n",
      "9333   515.750000  30.000000  11.075000  0.462436  \n",
      "9334   548.000000  29.425000  10.375000  0.419179  \n",
      "9335   603.250000  28.875000   9.875000  0.386566  \n",
      "9336   597.333333  22.800001  21.699999  0.594491  \n",
      "9337  1167.000000  19.925000  33.050000  0.760784  \n",
      "9338  1371.750000  17.500000  40.724999  0.807281  \n",
      "9339  1042.250000  16.450000  46.550000  0.864238  \n",
      "9340  1055.000000  15.525000  48.975000  0.857933  \n",
      "9341  1049.000000  14.275000  52.500000  0.849727  \n",
      "9342   816.250000  14.175000  51.450000  0.827454  \n",
      "9343   598.250000  13.850000  51.150001  0.805778  \n",
      "9344   573.000000  12.100000  56.300000  0.792730  \n",
      "9345   548.750000  11.325000  58.899999  0.788769  \n",
      "9346   488.750000  11.825000  55.975000  0.774275  \n",
      "9347   577.500000  10.400000  59.875000  0.754964  \n",
      "9348   905.000000   9.550000  63.150000  0.753129  \n",
      "9349  1457.250000   9.675000  61.924999  0.744608  \n",
      "9350  1704.500000  13.550000  48.875000  0.755337  \n",
      "9351  1582.500000  18.150001  36.275001  0.748652  \n",
      "9352  1728.500000  21.850000  29.250000  0.756824  \n",
      "9353  1269.000000  24.325000  23.725000  0.711864  \n",
      "9354  1092.000000  26.900000  18.350000  0.640649  \n",
      "9355   769.750000  28.325000  13.550000  0.513866  \n",
      "9356   816.000000  28.500000  13.125000  0.502804  \n",
      "\n",
      "[9357 rows x 15 columns]\n"
     ]
    }
   ],
   "source": [
    "#Read a file\n",
    "df = pd.read_excel(r'C:\\Users\\jthekkel\\Desktop\\DataSet\\AirQualityUCI.xlsx',sheet_name='AirQualityUCI')\n",
    "print(df)"
   ]
  },
  {
   "cell_type": "code",
   "execution_count": 3,
   "metadata": {},
   "outputs": [
    {
     "name": "stdout",
     "output_type": "stream",
     "text": [
      "0       13.600000\n",
      "1       13.300000\n",
      "2       11.900000\n",
      "3       11.000000\n",
      "4       11.150000\n",
      "5       11.175000\n",
      "6       11.325000\n",
      "7       10.675000\n",
      "8       10.650000\n",
      "9       10.250000\n",
      "10      10.075000\n",
      "11      11.000000\n",
      "12      10.450000\n",
      "13      10.200000\n",
      "14      10.750000\n",
      "15      10.500000\n",
      "16      10.800000\n",
      "17      10.500000\n",
      "18       9.525000\n",
      "19       8.300000\n",
      "20       8.000000\n",
      "21       8.325000\n",
      "22       9.700000\n",
      "23       9.775000\n",
      "24      10.350000\n",
      "25       9.650000\n",
      "26       9.650000\n",
      "27       9.125000\n",
      "28       8.175000\n",
      "29       8.250000\n",
      "          ...    \n",
      "9327    17.825000\n",
      "9328    21.125000\n",
      "9329    24.000000\n",
      "9330    26.450000\n",
      "9331    28.675000\n",
      "9332    28.475000\n",
      "9333    30.000000\n",
      "9334    29.425000\n",
      "9335    28.875000\n",
      "9336    22.800001\n",
      "9337    19.925000\n",
      "9338    17.500000\n",
      "9339    16.450000\n",
      "9340    15.525000\n",
      "9341    14.275000\n",
      "9342    14.175000\n",
      "9343    13.850000\n",
      "9344    12.100000\n",
      "9345    11.325000\n",
      "9346    11.825000\n",
      "9347    10.400000\n",
      "9348     9.550000\n",
      "9349     9.675000\n",
      "9350    13.550000\n",
      "9351    18.150001\n",
      "9352    21.850000\n",
      "9353    24.325000\n",
      "9354    26.900000\n",
      "9355    28.325000\n",
      "9356    28.500000\n",
      "Name: T, Length: 9357, dtype: float64\n"
     ]
    }
   ],
   "source": [
    "# define the data/predictors as the pre-set feature names  \n",
    "#df = pd.DataFrame(data.data, columns=data.feature_names)\n",
    "\n",
    "# Put the target (housing value -- MEDV) in another DataFrame\n",
    "target = df[\"T\"]\n",
    "print(target)"
   ]
  },
  {
   "cell_type": "code",
   "execution_count": 4,
   "metadata": {},
   "outputs": [],
   "source": [
    "X = df[[\"AH\",\"RH\"]]\n",
    "y = target\n",
    "X = sm.add_constant(X)\n",
    "#print(X)\n",
    "#print(y)"
   ]
  },
  {
   "cell_type": "code",
   "execution_count": 5,
   "metadata": {},
   "outputs": [
    {
     "data": {
      "text/html": [
       "<table class=\"simpletable\">\n",
       "<caption>OLS Regression Results</caption>\n",
       "<tr>\n",
       "  <th>Dep. Variable:</th>            <td>T</td>        <th>  R-squared:         </th> <td>   0.977</td> \n",
       "</tr>\n",
       "<tr>\n",
       "  <th>Model:</th>                   <td>OLS</td>       <th>  Adj. R-squared:    </th> <td>   0.977</td> \n",
       "</tr>\n",
       "<tr>\n",
       "  <th>Method:</th>             <td>Least Squares</td>  <th>  F-statistic:       </th> <td>2.001e+05</td>\n",
       "</tr>\n",
       "<tr>\n",
       "  <th>Date:</th>             <td>Mon, 04 Mar 2019</td> <th>  Prob (F-statistic):</th>  <td>  0.00</td>  \n",
       "</tr>\n",
       "<tr>\n",
       "  <th>Time:</th>                 <td>15:10:32</td>     <th>  Log-Likelihood:    </th> <td> -30832.</td> \n",
       "</tr>\n",
       "<tr>\n",
       "  <th>No. Observations:</th>      <td>  9357</td>      <th>  AIC:               </th> <td>6.167e+04</td>\n",
       "</tr>\n",
       "<tr>\n",
       "  <th>Df Residuals:</th>          <td>  9354</td>      <th>  BIC:               </th> <td>6.169e+04</td>\n",
       "</tr>\n",
       "<tr>\n",
       "  <th>Df Model:</th>              <td>     2</td>      <th>                     </th>     <td> </td>    \n",
       "</tr>\n",
       "<tr>\n",
       "  <th>Covariance Type:</th>      <td>nonrobust</td>    <th>                     </th>     <td> </td>    \n",
       "</tr>\n",
       "</table>\n",
       "<table class=\"simpletable\">\n",
       "<tr>\n",
       "    <td></td>       <th>coef</th>     <th>std err</th>      <th>t</th>      <th>P>|t|</th>  <th>[0.025</th>    <th>0.975]</th>  \n",
       "</tr>\n",
       "<tr>\n",
       "  <th>const</th> <td>   32.1332</td> <td>    0.203</td> <td>  157.907</td> <td> 0.000</td> <td>   31.734</td> <td>   32.532</td>\n",
       "</tr>\n",
       "<tr>\n",
       "  <th>AH</th>    <td>    1.4733</td> <td>    0.005</td> <td>  280.671</td> <td> 0.000</td> <td>    1.463</td> <td>    1.484</td>\n",
       "</tr>\n",
       "<tr>\n",
       "  <th>RH</th>    <td>   -0.3111</td> <td>    0.004</td> <td>  -77.876</td> <td> 0.000</td> <td>   -0.319</td> <td>   -0.303</td>\n",
       "</tr>\n",
       "</table>\n",
       "<table class=\"simpletable\">\n",
       "<tr>\n",
       "  <th>Omnibus:</th>       <td>495.421</td> <th>  Durbin-Watson:     </th> <td>   0.015</td> \n",
       "</tr>\n",
       "<tr>\n",
       "  <th>Prob(Omnibus):</th> <td> 0.000</td>  <th>  Jarque-Bera (JB):  </th> <td> 577.228</td> \n",
       "</tr>\n",
       "<tr>\n",
       "  <th>Skew:</th>          <td>-0.607</td>  <th>  Prob(JB):          </th> <td>4.53e-126</td>\n",
       "</tr>\n",
       "<tr>\n",
       "  <th>Kurtosis:</th>      <td> 2.927</td>  <th>  Cond. No.          </th> <td>    212.</td> \n",
       "</tr>\n",
       "</table><br/><br/>Warnings:<br/>[1] Standard Errors assume that the covariance matrix of the errors is correctly specified."
      ],
      "text/plain": [
       "<class 'statsmodels.iolib.summary.Summary'>\n",
       "\"\"\"\n",
       "                            OLS Regression Results                            \n",
       "==============================================================================\n",
       "Dep. Variable:                      T   R-squared:                       0.977\n",
       "Model:                            OLS   Adj. R-squared:                  0.977\n",
       "Method:                 Least Squares   F-statistic:                 2.001e+05\n",
       "Date:                Mon, 04 Mar 2019   Prob (F-statistic):               0.00\n",
       "Time:                        15:10:32   Log-Likelihood:                -30832.\n",
       "No. Observations:                9357   AIC:                         6.167e+04\n",
       "Df Residuals:                    9354   BIC:                         6.169e+04\n",
       "Df Model:                           2                                         \n",
       "Covariance Type:            nonrobust                                         \n",
       "==============================================================================\n",
       "                 coef    std err          t      P>|t|      [0.025      0.975]\n",
       "------------------------------------------------------------------------------\n",
       "const         32.1332      0.203    157.907      0.000      31.734      32.532\n",
       "AH             1.4733      0.005    280.671      0.000       1.463       1.484\n",
       "RH            -0.3111      0.004    -77.876      0.000      -0.319      -0.303\n",
       "==============================================================================\n",
       "Omnibus:                      495.421   Durbin-Watson:                   0.015\n",
       "Prob(Omnibus):                  0.000   Jarque-Bera (JB):              577.228\n",
       "Skew:                          -0.607   Prob(JB):                    4.53e-126\n",
       "Kurtosis:                       2.927   Cond. No.                         212.\n",
       "==============================================================================\n",
       "\n",
       "Warnings:\n",
       "[1] Standard Errors assume that the covariance matrix of the errors is correctly specified.\n",
       "\"\"\""
      ]
     },
     "execution_count": 5,
     "metadata": {},
     "output_type": "execute_result"
    }
   ],
   "source": [
    "# Note the difference in argument order\n",
    "model = sm.OLS(y, X).fit()\n",
    "predictions = model.predict(X) # make the predictions by the model\n",
    "\n",
    "# Print out the statistics\n",
    "model.summary()"
   ]
  },
  {
   "cell_type": "code",
   "execution_count": 6,
   "metadata": {},
   "outputs": [],
   "source": [
    "lm = linear_model.LinearRegression()\n",
    "model = lm.fit(X,y)"
   ]
  },
  {
   "cell_type": "code",
   "execution_count": 7,
   "metadata": {},
   "outputs": [
    {
     "name": "stdout",
     "output_type": "stream",
     "text": [
      "[18.04498905 18.36298428 16.44735466 14.62676742 14.76204768]\n"
     ]
    }
   ],
   "source": [
    "predictions = lm.predict(X)\n",
    "print(predictions [0:5])"
   ]
  },
  {
   "cell_type": "code",
   "execution_count": 8,
   "metadata": {},
   "outputs": [
    {
     "data": {
      "text/plain": [
       "0.9771629295719321"
      ]
     },
     "execution_count": 8,
     "metadata": {},
     "output_type": "execute_result"
    }
   ],
   "source": [
    "lm.score(X,y)\n",
    "#This is R2"
   ]
  },
  {
   "cell_type": "code",
   "execution_count": 9,
   "metadata": {},
   "outputs": [
    {
     "data": {
      "text/plain": [
       "array([ 0.        ,  1.47326376, -0.31109085])"
      ]
     },
     "execution_count": 9,
     "metadata": {},
     "output_type": "execute_result"
    }
   ],
   "source": [
    "lm.coef_\n",
    "#coefficients for the predictors"
   ]
  },
  {
   "cell_type": "code",
   "execution_count": 10,
   "metadata": {},
   "outputs": [
    {
     "data": {
      "text/plain": [
       "32.133183576062905"
      ]
     },
     "execution_count": 10,
     "metadata": {},
     "output_type": "execute_result"
    }
   ],
   "source": [
    "lm.intercept_"
   ]
  },
  {
   "cell_type": "code",
   "execution_count": 11,
   "metadata": {},
   "outputs": [],
   "source": [
    "from sklearn import datasets, linear_model\n",
    "from sklearn.model_selection import train_test_split\n",
    "from matplotlib import pyplot as plt"
   ]
  },
  {
   "cell_type": "code",
   "execution_count": 12,
   "metadata": {},
   "outputs": [
    {
     "name": "stdout",
     "output_type": "stream",
     "text": [
      "(7485, 3) (7485,)\n",
      "(1872, 3) (1872,)\n"
     ]
    }
   ],
   "source": [
    "# create training and testing vars\n",
    "X_train, X_test, y_train, y_test = train_test_split(X, y, test_size=0.2)\n",
    "print (X_train.shape, y_train.shape)\n",
    "print (X_test.shape, y_test.shape)"
   ]
  },
  {
   "cell_type": "code",
   "execution_count": 13,
   "metadata": {},
   "outputs": [],
   "source": [
    "# fit a model\n",
    "lm = linear_model.LinearRegression()\n",
    "model = lm.fit(X_train, y_train)\n",
    "predictions = lm.predict(X_test)"
   ]
  },
  {
   "cell_type": "code",
   "execution_count": 14,
   "metadata": {},
   "outputs": [
    {
     "data": {
      "text/plain": [
       "array([15.17563138,  9.94124472, 27.39551096,  9.57746761, 24.44632457])"
      ]
     },
     "execution_count": 14,
     "metadata": {},
     "output_type": "execute_result"
    }
   ],
   "source": [
    "predictions[0:5]"
   ]
  },
  {
   "cell_type": "code",
   "execution_count": 15,
   "metadata": {},
   "outputs": [
    {
     "data": {
      "text/plain": [
       "Text(0,0.5,'Predictions')"
      ]
     },
     "execution_count": 15,
     "metadata": {},
     "output_type": "execute_result"
    },
    {
     "data": {
      "image/png": "[encoded data removed]",
      "text/plain": [
       "<Figure size 432x288 with 1 Axes>"
      ]
     },
     "metadata": {
      "needs_background": "light"
     },
     "output_type": "display_data"
    }
   ],
   "source": [
    "## The line / model\n",
    "plt.scatter(y_test, predictions)\n",
    "plt.xlabel('TrueValues')\n",
    "plt.ylabel('Predictions')"
   ]
  },
  {
   "cell_type": "code",
   "execution_count": 16,
   "metadata": {},
   "outputs": [
    {
     "name": "stdout",
     "output_type": "stream",
     "text": [
      "0.97913021079475\n"
     ]
    }
   ],
   "source": [
    "print (model.score(X_test, y_test))"
   ]
  },
  {
   "cell_type": "code",
   "execution_count": 17,
   "metadata": {},
   "outputs": [
    {
     "name": "stderr",
     "output_type": "stream",
     "text": [
      "C:\\Users\\jthekkel\\AppData\\Local\\Continuum\\anaconda3\\lib\\site-packages\\sklearn\\cross_validation.py:41: DeprecationWarning: This module was deprecated in version 0.18 in favor of the model_selection module into which all the refactored classes and functions are moved. Also note that the interface of the new CV iterators are different from that of this module. This module will be removed in 0.20.\n",
      "  \"This module will be removed in 0.20.\", DeprecationWarning)\n"
     ]
    }
   ],
   "source": [
    "#CrossValidation\n",
    "# Necessary imports: \n",
    "from sklearn.cross_validation import cross_val_score, cross_val_predict\n",
    "from sklearn import metrics"
   ]
  },
  {
   "cell_type": "code",
   "execution_count": 18,
   "metadata": {},
   "outputs": [
    {
     "name": "stdout",
     "output_type": "stream",
     "text": [
      "[0.98615976 0.9768237  0.96238558 0.2928374  0.98382107 0.95233819]\n"
     ]
    }
   ],
   "source": [
    "# Perform 6-fold cross validation\n",
    "scores = cross_val_score(model, X, y, cv=6)\n",
    "print (scores)"
   ]
  },
  {
   "cell_type": "code",
   "execution_count": 19,
   "metadata": {},
   "outputs": [
    {
     "data": {
      "text/plain": [
       "<matplotlib.collections.PathCollection at 0x22e99cf6c18>"
      ]
     },
     "execution_count": 19,
     "metadata": {},
     "output_type": "execute_result"
    },
    {
     "data": {
      "image/png": "[encoded data removed]",
      "text/plain": [
       "<Figure size 432x288 with 1 Axes>"
      ]
     },
     "metadata": {
      "needs_background": "light"
     },
     "output_type": "display_data"
    }
   ],
   "source": [
    "# Make cross validated predictions\n",
    "predictions = cross_val_predict(model, X, y, cv=6)\n",
    "plt.scatter(y, predictions)"
   ]
  },
  {
   "cell_type": "code",
   "execution_count": 20,
   "metadata": {},
   "outputs": [
    {
     "name": "stdout",
     "output_type": "stream",
     "text": [
      "0.969887536615289\n"
     ]
    }
   ],
   "source": [
    "accuracy = metrics.r2_score(y, predictions)\n",
    "print (accuracy)"
   ]
  },
  {
   "cell_type": "code",
   "execution_count": null,
   "metadata": {},
   "outputs": [],
   "source": []
  }
 ],
 "metadata": {
  "kernelspec": {
   "display_name": "Python 2",
   "language": "python",
   "name": "python2"
  },
  "language_info": {
   "codemirror_mode": {
    "name": "ipython",
    "version": 2
   },
   "file_extension": ".py",
   "mimetype": "text/x-python",
   "name": "python",
   "nbconvert_exporter": "python",
   "pygments_lexer": "ipython2",
   "version": "2.7.16"
  }
 },
 "nbformat": 4,
 "nbformat_minor": 2
}
